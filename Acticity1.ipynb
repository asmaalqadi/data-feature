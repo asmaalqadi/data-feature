{
  "cells": [
    {
      "cell_type": "markdown",
      "metadata": {
        "id": "view-in-github",
        "colab_type": "text"
      },
      "source": [
        "<a href=\"https://colab.research.google.com/github/asmaalqadi/data-feature/blob/main/Acticity1.ipynb\" target=\"_parent\"><img src=\"https://colab.research.google.com/assets/colab-badge.svg\" alt=\"Open In Colab\"/></a>"
      ]
    },
    {
      "cell_type": "markdown",
      "metadata": {
        "id": "hMusGkZNlHZ4"
      },
      "source": [
        "Assignment 1:\n",
        "\n",
        "\n",
        "We will build a data feature that tells people news about the teams in a match and league of their choice.\n",
        "\n",
        "We will use two APIs:\n",
        "\n",
        "\n",
        "1. An API for football matches\n",
        "2. An API to find the news relating to the teams\n",
        "\n",
        "Steps:\n",
        "\n",
        "\n",
        "*   Sign up for a football API key\n",
        "*   Sign up for a news API key\n",
        "*   Add API Key's to colab's secrets\n",
        "*   Test the APIs\n",
        "*   Function to get the uocoming matches data about the Leauges\n",
        "*   Function to get the article data for the the teams chosen\n",
        "\n",
        "\n",
        "\n",
        "\n",
        "\n",
        "\n",
        "\n"
      ]
    },
    {
      "cell_type": "code",
      "execution_count": 1,
      "metadata": {
        "id": "k1kVO8v21Q7Z"
      },
      "outputs": [],
      "source": [
        "#importing both requests and json\n",
        "import requests\n",
        "import json\n",
        "\n",
        "# initializing  the keys for the APIs\n",
        "from google.colab import userdata\n",
        "FOOTBALL_API_KEY = userdata.get('FOOTBALL_API_KEY')\n",
        "NEWS_API_KEY = userdata.get('NEWS_API_KEY')\n",
        "\n"
      ]
    },
    {
      "cell_type": "code",
      "execution_count": 2,
      "metadata": {
        "id": "UKBItR9KMew8"
      },
      "outputs": [],
      "source": [
        "import requests\n",
        "# creating the functions for league selection\n",
        "def league_selector():\n",
        "#  Condition that the user choice should be one of these options\n",
        "    while True:\n",
        "        print(\"Select the league to view upcoming matches:\")\n",
        "        print(\"1. Champions League\")\n",
        "        print(\"2. Premier League\")\n",
        "        print(\"3. French League\")\n",
        "        print(\"4. Italian League\")\n",
        "        print(\"5. German League\")\n",
        "        print(\"6. Spanish League\")\n",
        "        print(\"7. Exit Program\")\n",
        "        league_choice = input(\"Enter your League choice (1-6): \")\n",
        "# Dictionary with the choices to limit the user data entry\n",
        "# All codes below are according the league ID in the football API\n",
        "        league_ids = {\n",
        "            # code for the Champions League\n",
        "            '1': 2,\n",
        "            # code for the Premier League\n",
        "            '2': 39,\n",
        "            # code for the French League\n",
        "            '3': 61,\n",
        "            # code for the Italian League\n",
        "            '4': 135,\n",
        "            # code for the German League\n",
        "            '5': 78,\n",
        "            # code for the Spanish League\n",
        "            '6': 140}\n",
        "# if league_choice in ID's then return the corresponding league\n",
        "        if league_choice in league_ids:\n",
        "            return league_ids[league_choice]\n",
        "# if league_choice is 7 then exit the program\n",
        "      #  elif league_choice == '7':\n",
        "           # return None\n",
        "        else:\n",
        "# if league_choice was out of the options retun this error message and allow re-entry\n",
        "            print(\"Invalid choice, please enter a number from the options above.\")\n",
        "           # return \"Retry\"\n"
      ]
    },
    {
      "cell_type": "code",
      "execution_count": 3,
      "metadata": {
        "id": "XMfv_3DjilkE"
      },
      "outputs": [],
      "source": [
        "# creating the function for getting the upcoming 10 matches for a certain league based on the date the code is ran with a parameter of the league_id\n",
        "def upcoming_matches(league_id):\n",
        "  # the url for the football API added to fetch this data from it\n",
        "    url = \"https://api-football-v1.p.rapidapi.com/v3/fixtures\"\n",
        "    headers = {\n",
        "        'x-rapidapi-key': FOOTBALL_API_KEY,\n",
        "        'x-rapidapi-host': 'api-football-v1.p.rapidapi.com'\n",
        "    }\n",
        "    # parameters including the league_id accorrding to API and the number of matches fetched\n",
        "    params = {\n",
        "        'league': league_id,\n",
        "        'next': 10\n",
        "    }\n",
        "    response = requests.get(url , headers=headers , params=params)\n",
        "    # The success number 200 as per the API\n",
        "    if response.status_code == 200:\n",
        "        matches = response.json()\n",
        "        return matches['response']\n",
        "    else:\n",
        "        print(f\"Failed to fetch matches: {response.status_code} - {response.text}\")\n",
        "        return None\n"
      ]
    },
    {
      "cell_type": "code",
      "execution_count": 4,
      "metadata": {
        "id": "Uo__qUZVh2Td"
      },
      "outputs": [],
      "source": [
        "def match_selector():\n",
        "  # getting the list of matches from the football API\n",
        "    matches = upcoming_matches()\n",
        "    # if there are 10 matches available to be displayed then they will available for the user's selection\n",
        "    if matches:\n",
        "      # the user is then asked to pick a match from (1-10)\n",
        "        print(\"Select a match by entering its number (1-10):\")\n",
        "        # numbering the matches by this loop from 1-10 using the enumerate function\n",
        "        for i, match in enumerate(matches, 1):\n",
        "            # some formats for displaying the teams names'\n",
        "            home_team = match['teams']['home']['name']\n",
        "            away_team = match['teams']['away']['name']\n",
        "            # Date format to match UTC\n",
        "            match_date = match['fixture']['date'].replace(\"T\", \" \").split(\"+\")[0]\n",
        "            # formatting the match fixture to be displayed with the date using f- string\n",
        "            print(f\"{i}. {home_team} vs {away_team} on {match_date}\")\n",
        "\n",
        "        league_choice = int(input(\"Enter your choice (number): \"))\n",
        "        # checks if the number is entered from the list\n",
        "        if 1 <= league_choice <= len(matches):\n",
        "          #league choice is subtractted by 1 to match the dictionary since the numbering starts from 1\n",
        "            return matches[league_choice - 1]\n",
        "        else:\n",
        "            print(\"Invalid choice. Please try again.\")\n",
        "            return None\n",
        "    # if not in list this message will be printed\n",
        "    else:\n",
        "        print(\"No upcoming matches available.\")\n",
        "        return None"
      ]
    },
    {
      "cell_type": "code",
      "execution_count": 5,
      "metadata": {
        "id": "tH1JBFgYh7ly"
      },
      "outputs": [],
      "source": [
        "def news_articles(team_name):\n",
        "   # gets the URL for NY Times article by team name using the news API\n",
        "    url = f\"https://api.nytimes.com/svc/search/v2/articlesearch.json?q={team_name} football\"\n",
        "    params = {'api-key':NEWS_API_KEY}\n",
        "    response = requests.get(url, params=params)\n",
        "    # if successful then 200 , according to API\n",
        "    if response.status_code == 200:\n",
        "      # extract articles\n",
        "        return response.json()['response']['docs']\n",
        "    else:\n",
        "        print(f\"Failed to fetch news articles for {team_name}: {response.status_code}\") # error message\n",
        "        return None\n"
      ]
    },
    {
      "cell_type": "code",
      "execution_count": 6,
      "metadata": {
        "colab": {
          "base_uri": "https://localhost:8080/"
        },
        "id": "ckbUu7hDh_tR",
        "outputId": "e759762e-01cd-40b3-f1f6-329c54e0fe6d"
      },
      "outputs": [
        {
          "output_type": "stream",
          "name": "stdout",
          "text": [
            "Select the league to view upcoming matches:\n",
            "1. Champions League\n",
            "2. Premier League\n",
            "3. French League\n",
            "4. Italian League\n",
            "5. German League\n",
            "6. Spanish League\n",
            "7. Exit Program\n",
            "Enter your League choice (1-6): 1\n",
            "Upcoming Matches:\n",
            "1. FK Crvena Zvezda vs Benfica on 2024-09-19 16:45:00 UTC\n",
            "2. Feyenoord vs Bayer Leverkusen on 2024-09-19 16:45:00 UTC\n",
            "3. Atalanta vs Arsenal on 2024-09-19 19:00:00 UTC\n",
            "4. Atletico Madrid vs RB Leipzig on 2024-09-19 19:00:00 UTC\n",
            "5. Stade Brestois 29 vs Sturm Graz on 2024-09-19 19:00:00 UTC\n",
            "6. Monaco vs Barcelona on 2024-09-19 19:00:00 UTC\n",
            "7. Red Bull Salzburg vs Stade Brestois 29 on 2024-10-01 16:45:00 UTC\n",
            "8. VfB Stuttgart vs Sparta Praha on 2024-10-01 16:45:00 UTC\n",
            "9. Barcelona vs BSC Young Boys on 2024-10-01 19:00:00 UTC\n",
            "10. Bayer Leverkusen vs AC Milan on 2024-10-01 19:00:00 UTC\n",
            "Enter the match number to view news about the teams: 1\n",
            "News for FK Crvena Zvezda:\n",
            "- FOOTBALL VIOLENCE; FOOTBALL (URL: https://www.nytimes.com/1980/11/30/archives/football-violence-football.html)\n",
            "- Football Losers Now Winners; Football Losers Are Now Winners (URL: https://www.nytimes.com/1980/12/28/archives/westchester-weekly-football-losers-now-winners-football-losers-are.html)\n",
            "- Nebraska No. 1 in Football (URL: https://www.nytimes.com/1980/11/07/archives/nebraska-no-1-in-football.html)\n",
            "- Ithaca Is Big in World of Small Football; No Designs on Division I Ithaca Stands Tall In Small Football Family Concept in Football  (URL: https://www.nytimes.com/1980/12/05/archives/ithaca-is-big-in-world-of-small-football-no-designs-on-division-i-i.html)\n",
            "- No Knife or Fork--Just Snacks and Football, Football, Football (URL: https://www.nytimes.com/1967/12/30/archives/no-knife-or-forkjust-snacks-and-football-football-football.html)\n",
            "- Saban Resigns as Football Coach at Army (URL: https://www.nytimes.com/1980/07/18/archives/saban-resigns-as-football-coach-at-army.html)\n",
            "- Howdy Myers, Coached In Football and Lacrosse (URL: https://www.nytimes.com/1980/02/14/archives/howdy-myers-coached-in-football-and-lacrosse.html)\n",
            "- PRO FOOTBALL PREVIEW (URL: https://www.nytimes.com/1980/08/31/archives/pro-football-preview.html)\n",
            "- About Club Football (URL: https://www.nytimes.com/1969/11/02/archives/about-club-football.html)\n",
            "- Football Twin Bill on TV (URL: https://www.nytimes.com/1980/12/06/archives/football-twin-bill-on-tv.html)\n",
            "News for Benfica:\n",
            "- Benfica Beat Liverpool (URL: https://www.nytimes.com/reuters/2010/04/01/sports/sports-uk-soccer-europa.html)\n",
            "- Zenit’s Long Winter Layoff Helps Benfica to 1-0 Win (URL: https://www.nytimes.com/2016/02/18/sports/soccer/uefa-champions-league-zenit-long-winter-layoff-helps-benfica-to-1-0-win.html)\n",
            "- Soccer: AC Milan, Arsenal, Lyon and Benfica advance to Champions League quarterfinals (URL: https://www.nytimes.com/2006/03/09/sports/soccer-ac-milan-arsenal-lyon-and-benfica-advance-to-champions-league.html)\n",
            "- MILAN TOPS BENFICA TO WIN SOCCER CUP (URL: https://www.nytimes.com/1963/05/23/archives/milan-tops-benfica-to-win-soccer-cup.html)\n",
            "- Benfica Tops Real Madrid, 5-3, To Keep European Soccer Cup (URL: https://www.nytimes.com/1962/05/03/archives/benfica-tops-real-madrid-53-to-keep-european-soccer-cup.html)\n",
            "- Benfica Gains in Cup Soccer (URL: https://www.nytimes.com/1962/02/23/archives/benfica-gains-in-cup-soccer.html)\n",
            "- European Football (URL: https://www.nytimes.com/1974/12/12/archives/european-football.html)\n",
            "- FOOTBALL VIOLENCE; FOOTBALL (URL: https://www.nytimes.com/1980/11/30/archives/football-violence-football.html)\n",
            "- Football Losers Now Winners; Football Losers Are Now Winners (URL: https://www.nytimes.com/1980/12/28/archives/westchester-weekly-football-losers-now-winners-football-losers-are.html)\n",
            "- The Soccer Club as Sovereign State (URL: https://www.nytimes.com/2020/04/22/sports/soccer/portugal-benfica-football-leaks.html)\n"
          ]
        }
      ],
      "source": [
        "def teams_news(home_team, away_team):\n",
        "  # getting home and away team news\n",
        "    home_news = news_articles(home_team)\n",
        "    away_news = news_articles(away_team)\n",
        "  # Home team news printed first\n",
        "    print(f\"News for {home_team}:\")\n",
        "    for article in home_news:\n",
        "        print(f\"- {article['headline']['main']} (URL: {article['web_url']})\")\n",
        "# Away team news then is printed\n",
        "    print(f\"News for {away_team}:\")\n",
        "    for article in away_news:\n",
        "        print(f\"- {article['headline']['main']} (URL: {article['web_url']})\")\n",
        "\n",
        "# user is asked for a league id\n",
        "league_id = league_selector()\n",
        "# checks if the user number is valid\n",
        "if league_id:\n",
        "  # prints the list of upcoming chosen league matches using the ID entered\n",
        "    matches = upcoming_matches(league_id)\n",
        "    if matches:\n",
        "        print(\"Upcoming Matches:\")\n",
        "        # printing the list using enumerate function\n",
        "        for index, match in enumerate(matches, 1):\n",
        "            home_team = match['teams']['home']['name']\n",
        "            away_team = match['teams']['away']['name']\n",
        "            match_date = match['fixture']['date'].replace(\"T\", \" \").split(\"+\")[0]\n",
        "            print(f\"{index}. {home_team} vs {away_team} on {match_date} UTC\")\n",
        "\n",
        "        # asking the user for a match from the upcoming matches choices\n",
        "        # the int is used to change the number entered by the user and then subtract it by 1\n",
        "        selected_index = int(input(\"Enter the match number to view news about the teams: \")) - 1\n",
        "        # checking if the choice is valid\n",
        "        if 0 <= selected_index < len(matches):\n",
        "            selected_match = matches[selected_index]\n",
        "            teams_news(selected_match['teams']['home']['name'], selected_match['teams']['away']['name'])\n",
        "            # error messages if the number is invalid\n",
        "        else:\n",
        "            print(\"Invalid match selection.\")\n",
        "    else:\n",
        "        print(\"No upcoming matches found for the selected league.\")\n",
        "else:\n",
        "    print(\"No valid league was selected, please restart the program.\")"
      ]
    }
  ],
  "metadata": {
    "colab": {
      "provenance": [],
      "include_colab_link": true
    },
    "kernelspec": {
      "display_name": "Python 3",
      "name": "python3"
    },
    "language_info": {
      "name": "python"
    }
  },
  "nbformat": 4,
  "nbformat_minor": 0
}